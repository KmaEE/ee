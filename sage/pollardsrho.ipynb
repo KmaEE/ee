{
 "cells": [
  {
   "cell_type": "code",
   "execution_count": 2,
   "metadata": {},
   "outputs": [
    {
     "name": "stdout",
     "output_type": "stream",
     "text": [
      "Elliptic Curve defined by y^2 = x^3 + 6692*x + 9667 over Ring of integers modulo 10037\n"
     ]
    },
    {
     "data": {
      "text/plain": [
       "((3354 : 7358 : 1), (5403 : 5437 : 1))"
      ]
     },
     "execution_count": 2,
     "metadata": {},
     "output_type": "execute_result"
    }
   ],
   "source": [
    "from sage import *\n",
    "\n",
    "F = Zmod(10037)\n",
    "C = EllipticCurve(F, [6692, 9667])\n",
    "print(C)\n",
    "P = C(3354, 7358)\n",
    "Q = C(5403, 5437)\n",
    "(P, Q)"
   ]
  },
  {
   "cell_type": "code",
   "execution_count": 9,
   "metadata": {},
   "outputs": [
    {
     "data": {
      "text/plain": [
       "(6201 : 273 : 1)"
      ]
     },
     "execution_count": 9,
     "metadata": {},
     "output_type": "execute_result"
    }
   ],
   "source": [
    "C(7895, 3157) + C(5361, 3335)"
   ]
  },
  {
   "cell_type": "code",
   "execution_count": 68,
   "metadata": {},
   "outputs": [
    {
     "data": {
      "text/plain": [
       "1277"
      ]
     },
     "execution_count": 68,
     "metadata": {},
     "output_type": "execute_result"
    }
   ],
   "source": [
    "discrete_log_rho(Q, P, operation='+')"
   ]
  },
  {
   "cell_type": "code",
   "execution_count": 69,
   "metadata": {},
   "outputs": [
    {
     "data": {
      "text/plain": [
       "(5403 : 5437 : 1)"
      ]
     },
     "execution_count": 69,
     "metadata": {},
     "output_type": "execute_result"
    }
   ],
   "source": [
    "1277*P"
   ]
  },
  {
   "cell_type": "code",
   "execution_count": 13,
   "metadata": {},
   "outputs": [
    {
     "data": {
      "text/plain": [
       "(10151, 10151)"
      ]
     },
     "execution_count": 13,
     "metadata": {},
     "output_type": "execute_result"
    }
   ],
   "source": [
    "(P.order(),\n",
    "Q.order())"
   ]
  },
  {
   "cell_type": "code",
   "execution_count": 3,
   "metadata": {},
   "outputs": [
    {
     "data": {
      "text/plain": [
       "'42, 37, 21, 12, 25, 20, 39, 15, 23, 29, 45, 25, 14, 37, 30, 12, 45, 49, 40, 45, 15, 36'"
      ]
     },
     "execution_count": 3,
     "metadata": {},
     "output_type": "execute_result"
    }
   ],
   "source": [
    "# Pick 10+2 random integers modulo 50.\n",
    "# In more realistic settings, this should be mod 10151.\n",
    "# The last two are used as P0\n",
    "import random\n",
    "random.seed(int(0))\n",
    "coeffs = random.choices(range(50), k=22)\n",
    "\", \".join(map(str,coeffs))"
   ]
  },
  {
   "cell_type": "code",
   "execution_count": 4,
   "metadata": {},
   "outputs": [
    {
     "data": {
      "text/plain": [
       "(7895 : 3157 : 1)"
      ]
     },
     "execution_count": 4,
     "metadata": {},
     "output_type": "execute_result"
    }
   ],
   "source": [
    "kPs = [k * P for k in coeffs[:20:2]]\n",
    "kQs = [k * Q for k in coeffs[1:20:2]]\n",
    "M = [kPs[i] + kQs[i] for i in range(10)]\n",
    "P0 = coeffs[20] * P + coeffs[21] * Q; P0"
   ]
  },
  {
   "cell_type": "code",
   "execution_count": 8,
   "metadata": {},
   "outputs": [
    {
     "data": {
      "text/plain": [
       "(5361 : 3335 : 1)"
      ]
     },
     "execution_count": 8,
     "metadata": {},
     "output_type": "execute_result"
    }
   ],
   "source": [
    "M[5]"
   ]
  },
  {
   "cell_type": "code",
   "execution_count": 5,
   "metadata": {},
   "outputs": [
    {
     "data": {
      "text/plain": [
       "(6201 : 273 : 1)"
      ]
     },
     "execution_count": 5,
     "metadata": {},
     "output_type": "execute_result"
    }
   ],
   "source": [
    "def f(point):\n",
    "    return point + M[Integer(point[0]) % 10]\n",
    "f(P0)"
   ]
  },
  {
   "cell_type": "code",
   "execution_count": 10,
   "metadata": {},
   "outputs": [
    {
     "name": "stdout",
     "output_type": "stream",
     "text": [
      "(7895 : 3157 : 1)\n",
      "(6201 : 273 : 1)\n",
      "(8552 : 204 : 1)\n",
      "(5923 : 2939 : 1)\n",
      "(1448 : 2874 : 1)\n",
      "(1893 : 8078 : 1)\n",
      "(2479 : 162 : 1)\n",
      "(3088 : 3224 : 1)\n",
      "(3572 : 9402 : 1)\n",
      "(5892 : 9935 : 1)\n",
      "(2016 : 8499 : 1)\n",
      "(9085 : 8478 : 1)\n",
      "(1752 : 4401 : 1)\n",
      "(9626 : 8352 : 1)\n",
      "(497 : 2659 : 1)\n",
      "(7015 : 109 : 1)\n",
      "(1406 : 1646 : 1)\n",
      "(5103 : 2587 : 1)\n",
      "(1890 : 9926 : 1)\n",
      "(3433 : 7131 : 1)\n",
      "(1873 : 5325 : 1)\n",
      "(3635 : 7244 : 1)\n",
      "(2125 : 8724 : 1)\n",
      "(726 : 1387 : 1)\n",
      "(481 : 9566 : 1)\n",
      "(492 : 4140 : 1)\n",
      "(1409 : 6486 : 1)\n",
      "(2934 : 1112 : 1)\n",
      "(6471 : 8494 : 1)\n",
      "(5629 : 5198 : 1)\n",
      "(4232 : 4436 : 1)\n",
      "(6731 : 303 : 1)\n",
      "(2182 : 5329 : 1)\n",
      "(4178 : 9818 : 1)\n",
      "(5604 : 4161 : 1)\n",
      "(7500 : 36 : 1)\n",
      "(1176 : 2623 : 1)\n",
      "(6677 : 6147 : 1)\n",
      "(5229 : 212 : 1)\n",
      "(1453 : 5952 : 1)\n",
      "(2221 : 5073 : 1)\n",
      "(8383 : 6774 : 1)\n",
      "(8960 : 8561 : 1)\n",
      "(4583 : 4754 : 1)\n",
      "(9063 : 204 : 1)\n",
      "(4704 : 9000 : 1)\n",
      "(5665 : 1678 : 1)\n",
      "(7422 : 6281 : 1)\n",
      "(5312 : 7829 : 1)\n",
      "(10030 : 1883 : 1)\n",
      "(118 : 9979 : 1)\n",
      "(4182 : 1631 : 1)\n",
      "(4248 : 7539 : 1)\n",
      "(1128 : 8528 : 1)\n",
      "(2255 : 5298 : 1)\n",
      "(6354 : 9918 : 1)\n",
      "(8872 : 8255 : 1)\n",
      "(8807 : 4109 : 1)\n",
      "(5380 : 3953 : 1)\n",
      "(7351 : 3314 : 1)\n",
      "(2311 : 160 : 1)\n",
      "(9379 : 8943 : 1)\n",
      "(9756 : 5938 : 1)\n",
      "(2939 : 1810 : 1)\n",
      "(3797 : 6877 : 1)\n",
      "(2514 : 8141 : 1)\n",
      "(9268 : 9327 : 1)\n",
      "(5547 : 6600 : 1)\n",
      "(539 : 6979 : 1)\n",
      "(9655 : 2988 : 1)\n",
      "(4843 : 7338 : 1)\n",
      "(2710 : 5080 : 1)\n",
      "(1353 : 5688 : 1)\n",
      "(7253 : 5475 : 1)\n",
      "(8048 : 4667 : 1)\n",
      "(3374 : 305 : 1)\n",
      "(5749 : 8352 : 1)\n",
      "(5653 : 9893 : 1)\n",
      "(3527 : 7028 : 1)\n",
      "(7846 : 1893 : 1)\n",
      "(183 : 3613 : 1)\n",
      "(5866 : 8442 : 1)\n",
      "(4476 : 4864 : 1)\n",
      "(4353 : 3801 : 1)\n",
      "(8070 : 8369 : 1)\n",
      "(9950 : 1582 : 1)\n",
      "(5152 : 1594 : 1)\n",
      "(4868 : 34 : 1)\n",
      "(7328 : 6748 : 1)\n",
      "(9648 : 8074 : 1)\n",
      "(8066 : 2930 : 1)\n",
      "(8865 : 4360 : 1)\n",
      "(1636 : 1762 : 1)\n",
      "(6677 : 3890 : 1)\n",
      "(9541 : 2758 : 1)\n",
      "(170 : 7172 : 1)\n",
      "(7004 : 514 : 1)\n",
      "(8784 : 3533 : 1)\n",
      "(1783 : 5243 : 1)\n",
      "(2985 : 9953 : 1)\n",
      "(170 : 7172 : 1)\n",
      "(7004 : 514 : 1)\n",
      "(8784 : 3533 : 1)\n",
      "(1783 : 5243 : 1)\n",
      "(2985 : 9953 : 1)\n",
      "(170 : 7172 : 1)\n",
      "(7004 : 514 : 1)\n",
      "(8784 : 3533 : 1)\n",
      "(1783 : 5243 : 1)\n",
      "(2985 : 9953 : 1)\n",
      "(170 : 7172 : 1)\n",
      "(7004 : 514 : 1)\n",
      "(8784 : 3533 : 1)\n",
      "(1783 : 5243 : 1)\n",
      "(2985 : 9953 : 1)\n",
      "(170 : 7172 : 1)\n",
      "(7004 : 514 : 1)\n",
      "(8784 : 3533 : 1)\n",
      "(1783 : 5243 : 1)\n",
      "(2985 : 9953 : 1)\n",
      "(170 : 7172 : 1)\n",
      "(7004 : 514 : 1)\n",
      "(8784 : 3533 : 1)\n",
      "(1783 : 5243 : 1)\n",
      "(2985 : 9953 : 1)\n",
      "(170 : 7172 : 1)\n",
      "(7004 : 514 : 1)\n",
      "(8784 : 3533 : 1)\n",
      "(1783 : 5243 : 1)\n",
      "(2985 : 9953 : 1)\n",
      "(170 : 7172 : 1)\n",
      "(7004 : 514 : 1)\n",
      "(8784 : 3533 : 1)\n",
      "(1783 : 5243 : 1)\n",
      "(2985 : 9953 : 1)\n",
      "(170 : 7172 : 1)\n",
      "(7004 : 514 : 1)\n",
      "(8784 : 3533 : 1)\n",
      "(1783 : 5243 : 1)\n",
      "(2985 : 9953 : 1)\n",
      "(170 : 7172 : 1)\n",
      "(7004 : 514 : 1)\n",
      "(8784 : 3533 : 1)\n",
      "(1783 : 5243 : 1)\n",
      "(2985 : 9953 : 1)\n",
      "(170 : 7172 : 1)\n",
      "(7004 : 514 : 1)\n",
      "(8784 : 3533 : 1)\n",
      "(1783 : 5243 : 1)\n",
      "(2985 : 9953 : 1)\n",
      "(170 : 7172 : 1)\n",
      "(7004 : 514 : 1)\n",
      "(8784 : 3533 : 1)\n",
      "(1783 : 5243 : 1)\n",
      "(2985 : 9953 : 1)\n",
      "(170 : 7172 : 1)\n",
      "(7004 : 514 : 1)\n",
      "(8784 : 3533 : 1)\n",
      "(1783 : 5243 : 1)\n",
      "(2985 : 9953 : 1)\n",
      "(170 : 7172 : 1)\n",
      "(7004 : 514 : 1)\n",
      "(8784 : 3533 : 1)\n",
      "(1783 : 5243 : 1)\n",
      "(2985 : 9953 : 1)\n",
      "(170 : 7172 : 1)\n",
      "(7004 : 514 : 1)\n",
      "(8784 : 3533 : 1)\n",
      "(1783 : 5243 : 1)\n",
      "(2985 : 9953 : 1)\n",
      "(170 : 7172 : 1)\n",
      "(7004 : 514 : 1)\n",
      "(8784 : 3533 : 1)\n",
      "(1783 : 5243 : 1)\n",
      "(2985 : 9953 : 1)\n",
      "(170 : 7172 : 1)\n",
      "(7004 : 514 : 1)\n",
      "(8784 : 3533 : 1)\n",
      "(1783 : 5243 : 1)\n",
      "(2985 : 9953 : 1)\n",
      "(170 : 7172 : 1)\n",
      "(7004 : 514 : 1)\n",
      "(8784 : 3533 : 1)\n",
      "(1783 : 5243 : 1)\n",
      "(2985 : 9953 : 1)\n",
      "(170 : 7172 : 1)\n",
      "(7004 : 514 : 1)\n",
      "(8784 : 3533 : 1)\n",
      "(1783 : 5243 : 1)\n",
      "(2985 : 9953 : 1)\n",
      "(170 : 7172 : 1)\n",
      "(7004 : 514 : 1)\n",
      "(8784 : 3533 : 1)\n",
      "(1783 : 5243 : 1)\n",
      "(2985 : 9953 : 1)\n",
      "(170 : 7172 : 1)\n",
      "(7004 : 514 : 1)\n",
      "(8784 : 3533 : 1)\n",
      "(1783 : 5243 : 1)\n",
      "(2985 : 9953 : 1)\n"
     ]
    }
   ],
   "source": [
    "def iterate(point, n):\n",
    "    for _ in range(n):\n",
    "        yield point\n",
    "        point = f(point)\n",
    "\n",
    "li = list(iterate(P0, 200))\n",
    "print(\"\\n\".join(map(str,li)))"
   ]
  },
  {
   "cell_type": "code",
   "execution_count": 31,
   "metadata": {},
   "outputs": [
    {
     "data": {
      "text/plain": [
       "((170 : 7172 : 1), (170 : 7172 : 1))"
      ]
     },
     "execution_count": 31,
     "metadata": {},
     "output_type": "execute_result"
    }
   ],
   "source": [
    "# P_95 == P_100\n",
    "(li[95], li[100])"
   ]
  },
  {
   "cell_type": "code",
   "execution_count": 40,
   "metadata": {},
   "outputs": [
    {
     "data": {
      "text/plain": [
       "((3126, 2682), (3298, 2817))"
      ]
     },
     "execution_count": 40,
     "metadata": {},
     "output_type": "execute_result"
    }
   ],
   "source": [
    "import numpy as np\n",
    "P0c = vector(coeffs[20:22]); P0c\n",
    "coeffVs = list(map(vector, np.array_split(coeffs[:20], 10)))\n",
    "def iterateV(v, n):\n",
    "    for i in range(n):\n",
    "        yield v\n",
    "        v = v + coeffVs[Integer(li[i][0]) % 10]\n",
    "liV = list(iterateV(P0c, 200))\n",
    "# print(\"\\n\".join(map(str, liV)))\n",
    "liV[95], liV[100]"
   ]
  },
  {
   "cell_type": "code",
   "execution_count": 41,
   "metadata": {},
   "outputs": [
    {
     "data": {
      "text/plain": [
       "135"
      ]
     },
     "execution_count": 41,
     "metadata": {},
     "output_type": "execute_result"
    }
   ],
   "source": [
    "817-682"
   ]
  },
  {
   "cell_type": "code",
   "execution_count": 49,
   "metadata": {},
   "outputs": [
    {
     "data": {
      "text/plain": [
       "1277"
      ]
     },
     "execution_count": 49,
     "metadata": {},
     "output_type": "execute_result"
    }
   ],
   "source": [
    "F2 = Zmod(10151)\n",
    "1/F2(135)*F2(-172)"
   ]
  },
  {
   "cell_type": "code",
   "execution_count": null,
   "metadata": {},
   "outputs": [],
   "source": []
  }
 ],
 "metadata": {
  "kernelspec": {
   "display_name": "SageMath 10.3",
   "language": "sage",
   "name": "sagemath"
  },
  "language_info": {
   "codemirror_mode": {
    "name": "ipython",
    "version": 3
   },
   "file_extension": ".py",
   "mimetype": "text/x-python",
   "name": "python",
   "nbconvert_exporter": "python",
   "pygments_lexer": "ipython3",
   "version": "3.11.9"
  }
 },
 "nbformat": 4,
 "nbformat_minor": 2
}
